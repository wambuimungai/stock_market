{
 "cells": [
  {
   "cell_type": "code",
   "execution_count": 1,
   "metadata": {},
   "outputs": [],
   "source": [
    "#Version one\n",
    "import requests\n",
    "from lxml import html\n",
    "import config \n",
    "\n",
    "session_request = requests.session()\n",
    "\n",
    "#print(config.username)\n",
    "\n",
    "login_url = \"https://abacus.co.ke/auth/login\"\n",
    "result = session_request.get(login_url)\n",
    "\n",
    "tree = html.fromstring(result.text)\n",
    "authenticating_token = list(set(tree.xpath(\"//input[@name='_token']/@value\")))[0]\n",
    "#create payload\n",
    "payload = {'username':config.username,\n",
    "           'password':config.password,\n",
    "           '_token':authenticating_token   }\n",
    "\n",
    "result = session_request.post(\n",
    "    login_url,\n",
    "    data = payload,\n",
    "    headers = dict(referer = login_url)   \n",
    ")"
   ]
  },
  {
   "cell_type": "code",
   "execution_count": 2,
   "metadata": {},
   "outputs": [],
   "source": [
    "url = \"https://abacus.co.ke/live/company/SCOM/charts\"\n",
    "result = session_request.get(\n",
    "    url,\n",
    "    headers = dict(referer=url)\n",
    ")\n",
    "#print(result.content)\n",
    "\n",
    "import json, re, csv\n",
    "from bs4 import BeautifulSoup\n",
    "soup = BeautifulSoup(result.content, 'html.parser')\n",
    "script = soup.find('script', text=re.compile('Performance = ({.*?});'))\n",
    "json_text = re.search(r'Performance = ({.*?});',script.string, flags=re.DOTALL |re.MULTILINE).group(1)\n",
    "data = json.loads(json_text)\n",
    "#print(data)\n",
    "stock_details = data['data']\n",
    "stock_data = open('./path/to/output/folder/filename.csv', 'w')\n",
    "\n",
    "# create the csv writer object\n",
    "\n",
    "csvwriter = csv.writer(stock_data)\n",
    "\n",
    "count = 0\n",
    "\n",
    "for stock in stock_details:\n",
    "    if count == 0:\n",
    "        header = stock.keys()\n",
    "        csvwriter.writerow(header)\n",
    "        count += 1\n",
    "\n",
    "    csvwriter.writerow(stock.values())\n",
    "\n",
    "stock_data.close()"
   ]
  }
 ],
 "metadata": {
  "kernelspec": {
   "display_name": "Python 3",
   "language": "python",
   "name": "python3"
  },
  "language_info": {
   "codemirror_mode": {
    "name": "ipython",
    "version": 3
   },
   "file_extension": ".py",
   "mimetype": "text/x-python",
   "name": "python",
   "nbconvert_exporter": "python",
   "pygments_lexer": "ipython3",
   "version": "3.7.4"
  }
 },
 "nbformat": 4,
 "nbformat_minor": 4
}
